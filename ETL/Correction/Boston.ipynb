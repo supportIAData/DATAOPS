{
 "cells": [
  {
   "cell_type": "code",
   "execution_count": 81,
   "metadata": {},
   "outputs": [],
   "source": [
    "\"\"\"\n",
    "\n",
    "Extract Transform Load == ETL à partir de données semi-structurées.\n",
    "\n",
    "\"\"\"\n",
    "\n",
    "# Dépendances\n",
    "import json\n",
    "import numpy as np\n",
    "import pandas as pd\n",
    "import urllib.request"
   ]
  },
  {
   "cell_type": "code",
   "execution_count": 82,
   "metadata": {},
   "outputs": [],
   "source": [
    "url = 'https://data.boston.gov/api/3/action/datastore_search?resource_id=31358fd1-849a-48e0-8285-e813f6efbdf1'  "
   ]
  },
  {
   "cell_type": "code",
   "execution_count": 83,
   "metadata": {},
   "outputs": [],
   "source": [
    "\"\"\"\n",
    "Extraction des données\n",
    "\"\"\"\n",
    "def extract_boston_salary(url):\n",
    "    \n",
    "    fileobj = urllib.request.urlopen(url)\n",
    "    response_dict = json.loads(fileobj.read())\n",
    "    \n",
    "    return response_dict"
   ]
  },
  {
   "cell_type": "code",
   "execution_count": 84,
   "metadata": {},
   "outputs": [],
   "source": [
    "def transform_boston_salary():\n",
    "    dfBoston = pd.DataFrame( extract_boston_salary(url)['result']['records'] )\n",
    "    \n",
    "    # Mettre en forme les données avant de les extraires\n",
    "    dfBoston['TOTAL EARNINGS'] = dfBoston['TOTAL EARNINGS'].str.replace(\",\", \"\")\n",
    "    dfBoston['TOTAL EARNINGS'] = dfBoston['TOTAL EARNINGS'].astype('float')\n",
    "    \n",
    "    # Récupérer le max du total gains, et faire la différence (valeur absolue) avec le salaire de chaque personne\n",
    "    maxSalary = dfBoston['TOTAL EARNINGS'].max()\n",
    "    dfBoston['DIFF_SALARY_MAX'] = dfBoston['TOTAL EARNINGS'].apply(lambda x : abs( x - maxSalary) )\n",
    "    \n",
    "    # DataFrame syntaxe doubles crochets [[NAME_FIELD]]\n",
    "    return dfBoston[['NAME', 'DIFF_SALARY_MAX', 'TOTAL EARNINGS']]\n",
    "\n",
    "dfBoston = transform_boston_salary()"
   ]
  },
  {
   "cell_type": "code",
   "execution_count": 80,
   "metadata": {},
   "outputs": [],
   "source": [
    "\"\"\"\n",
    "Load des données\n",
    "\"\"\"\n",
    "\n",
    "def load_data_boston(df):\n",
    "    try:\n",
    "        print( df.to_json('diff_salary_boston.json', orient = 'records') )\n",
    "    except:\n",
    "        \n",
    "        print(\"Error load\")\n",
    "    \n",
    "# Décochez pour sauvegarder le fichier dans le dossier du NoteBook\n",
    "# load_data_boston(dfBoston)"
   ]
  },
  {
   "cell_type": "code",
   "execution_count": null,
   "metadata": {},
   "outputs": [],
   "source": []
  }
 ],
 "metadata": {
  "kernelspec": {
   "display_name": "Python 3",
   "language": "python",
   "name": "python3"
  },
  "language_info": {
   "codemirror_mode": {
    "name": "ipython",
    "version": 3
   },
   "file_extension": ".py",
   "mimetype": "text/x-python",
   "name": "python",
   "nbconvert_exporter": "python",
   "pygments_lexer": "ipython3",
   "version": "3.8.3"
  }
 },
 "nbformat": 4,
 "nbformat_minor": 4
}
