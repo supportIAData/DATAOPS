{
 "cells": [
  {
   "cell_type": "code",
   "execution_count": 2,
   "metadata": {},
   "outputs": [],
   "source": [
    "import numpy as np"
   ]
  },
  {
   "cell_type": "code",
   "execution_count": 3,
   "metadata": {},
   "outputs": [
    {
     "name": "stdout",
     "output_type": "stream",
     "text": [
      "[3 6 9]\n"
     ]
    }
   ],
   "source": [
    "a = np.array([[1,2,3], [4,5,6], [7,8,9]])\n",
    "\n",
    "print(a[:, 2])"
   ]
  },
  {
   "cell_type": "code",
   "execution_count": 4,
   "metadata": {},
   "outputs": [
    {
     "data": {
      "text/plain": [
       "array([1, 2, 3])"
      ]
     },
     "execution_count": 4,
     "metadata": {},
     "output_type": "execute_result"
    }
   ],
   "source": [
    "a[0]"
   ]
  },
  {
   "cell_type": "code",
   "execution_count": 5,
   "metadata": {},
   "outputs": [
    {
     "name": "stdout",
     "output_type": "stream",
     "text": [
      "[2 5 8]\n"
     ]
    }
   ],
   "source": [
    "print(a[:, 1])"
   ]
  },
  {
   "cell_type": "code",
   "execution_count": 6,
   "metadata": {},
   "outputs": [
    {
     "data": {
      "text/plain": [
       "array([[20, 21, 22],\n",
       "       [23, 24, 25],\n",
       "       [26, 27, 28]])"
      ]
     },
     "execution_count": 6,
     "metadata": {},
     "output_type": "execute_result"
    }
   ],
   "source": [
    "a = np.array([\n",
    "       [[10, 11, 12], [13, 14, 15], [16, 17, 18]], # matrix 0\n",
    "       [[20, 21, 22], [23, 24, 25], [26, 27, 28]],\n",
    "       [[30, 31, 32], [33, 34, 35], [36, 37, 38]]\n",
    "])\n",
    "\n",
    "# sélectionne la deuxième matrice\n",
    "a[1]"
   ]
  },
  {
   "cell_type": "code",
   "execution_count": 7,
   "metadata": {},
   "outputs": [
    {
     "name": "stdout",
     "output_type": "stream",
     "text": [
      "14 24 34\n"
     ]
    }
   ],
   "source": [
    "# On souhaite avoir 14 24 34 \n",
    "x, y, z = a[:, 1, 1]\n",
    "\n",
    "print(x, y, z)"
   ]
  },
  {
   "cell_type": "code",
   "execution_count": 8,
   "metadata": {},
   "outputs": [
    {
     "data": {
      "text/plain": [
       "array([[60, 63, 66],\n",
       "       [69, 72, 75],\n",
       "       [78, 81, 84]])"
      ]
     },
     "execution_count": 8,
     "metadata": {},
     "output_type": "execute_result"
    }
   ],
   "source": [
    "a = np.array([\n",
    "       [[10, 11, 12], [13, 14, 15], [16, 17, 18]], # matrix 0\n",
    "       [[20, 21, 22], [23, 24, 25], [26, 27, 28]],\n",
    "       [[30, 31, 32], [33, 34, 35], [36, 37, 38]]\n",
    "])\n",
    "\n",
    "a.sum(0)"
   ]
  },
  {
   "cell_type": "code",
   "execution_count": 9,
   "metadata": {},
   "outputs": [
    {
     "data": {
      "text/plain": [
       "array([[[20, 22, 24],\n",
       "        [26, 28, 30],\n",
       "        [32, 34, 36]],\n",
       "\n",
       "       [[40, 42, 44],\n",
       "        [46, 48, 50],\n",
       "        [52, 54, 56]],\n",
       "\n",
       "       [[60, 62, 64],\n",
       "        [66, 68, 70],\n",
       "        [72, 74, 76]]])"
      ]
     },
     "execution_count": 9,
     "metadata": {},
     "output_type": "execute_result"
    }
   ],
   "source": [
    "a*2"
   ]
  },
  {
   "cell_type": "code",
   "execution_count": 10,
   "metadata": {},
   "outputs": [],
   "source": [
    "# 01 Exercice"
   ]
  },
  {
   "cell_type": "code",
   "execution_count": 11,
   "metadata": {},
   "outputs": [],
   "source": [
    "x1 = np.array([[9, 1, 2],\n",
    "       [8, 0, 2],\n",
    "       [5, 1, 5]])"
   ]
  },
  {
   "cell_type": "code",
   "execution_count": 19,
   "metadata": {},
   "outputs": [
    {
     "name": "stdout",
     "output_type": "stream",
     "text": [
      "[9 1 2]\n",
      "[8 0 2]\n",
      "[5 1 5]\n"
     ]
    }
   ],
   "source": [
    "print( x1[0] )\n",
    "print( x1[1] )\n",
    "print( x1[2] )"
   ]
  },
  {
   "cell_type": "code",
   "execution_count": 20,
   "metadata": {},
   "outputs": [
    {
     "name": "stdout",
     "output_type": "stream",
     "text": [
      "[1 0 1]\n",
      "[9 8 5]\n",
      "[1 0 1]\n"
     ]
    }
   ],
   "source": [
    "# La deuxième colonne\n",
    "print( x1[:, 1] )\n",
    "\n",
    "# La première colonne\n",
    "print( x1[:, 0] )\n",
    "\n",
    "# La dernière colonne\n",
    "print( x1[:, 1] )"
   ]
  },
  {
   "cell_type": "code",
   "execution_count": 26,
   "metadata": {},
   "outputs": [
    {
     "name": "stdout",
     "output_type": "stream",
     "text": [
      "[[9 1]\n",
      " [8 0]]\n"
     ]
    }
   ],
   "source": [
    "\"\"\"\n",
    "9 1 \n",
    "8 0\n",
    "\"\"\"\n",
    "print( x1[:2,:2] )"
   ]
  },
  {
   "cell_type": "code",
   "execution_count": 27,
   "metadata": {},
   "outputs": [
    {
     "name": "stdout",
     "output_type": "stream",
     "text": [
      "[[0 2]\n",
      " [1 5]]\n"
     ]
    }
   ],
   "source": [
    "\"\"\"\n",
    "0 2\n",
    "1 5\n",
    "\"\"\"\n",
    "# start:end:step\n",
    "print(x1[1:,1:])"
   ]
  },
  {
   "cell_type": "code",
   "execution_count": 30,
   "metadata": {},
   "outputs": [
    {
     "data": {
      "text/plain": [
       "array([12, 10, 11])"
      ]
     },
     "execution_count": 30,
     "metadata": {},
     "output_type": "execute_result"
    }
   ],
   "source": [
    "# Somme des lignes\n",
    "x1.sum(1)"
   ]
  },
  {
   "cell_type": "code",
   "execution_count": 32,
   "metadata": {},
   "outputs": [
    {
     "data": {
      "text/plain": [
       "array([22,  2,  9])"
      ]
     },
     "execution_count": 32,
     "metadata": {},
     "output_type": "execute_result"
    }
   ],
   "source": [
    "# Somme des colonnes\n",
    "x1.sum(0)"
   ]
  },
  {
   "cell_type": "code",
   "execution_count": 35,
   "metadata": {},
   "outputs": [
    {
     "name": "stdout",
     "output_type": "stream",
     "text": [
      "22 2 9\n",
      "12 10 11\n"
     ]
    }
   ],
   "source": [
    "# Somme des colonnes\n",
    "x, y, z = x1.sum(0)\n",
    "print(x, y, z)\n",
    "\n",
    "# Somme des lignes\n",
    "a, b, c = x1.sum(1)\n",
    "\n",
    "print(a, b, c)"
   ]
  },
  {
   "cell_type": "code",
   "execution_count": 38,
   "metadata": {},
   "outputs": [
    {
     "name": "stdout",
     "output_type": "stream",
     "text": [
      "[[[8 4]\n",
      "  [8 9]]\n",
      "\n",
      " [[3 0]\n",
      "  [5 0]]]\n"
     ]
    }
   ],
   "source": [
    "# 02 Exercice\n",
    "x2 = np.array([ \n",
    "    [ [8, 4],[8, 9] ],\n",
    "    [ [3, 0],[5, 0] ] \n",
    "])\n",
    "\n",
    "print(x2)"
   ]
  },
  {
   "cell_type": "code",
   "execution_count": 66,
   "metadata": {},
   "outputs": [
    {
     "name": "stdout",
     "output_type": "stream",
     "text": [
      "[8 8]\n"
     ]
    }
   ],
   "source": [
    "\"\"\"\n",
    "8\n",
    "8\n",
    "\"\"\"\n",
    "\n",
    "print( x2[0][:, 0] )"
   ]
  },
  {
   "cell_type": "code",
   "execution_count": 68,
   "metadata": {},
   "outputs": [
    {
     "name": "stdout",
     "output_type": "stream",
     "text": [
      "[4 9]\n"
     ]
    }
   ],
   "source": [
    "\"\"\"\n",
    "4\n",
    "9\n",
    "\"\"\"\n",
    "\n",
    "print( x2[0][:, 1] )"
   ]
  },
  {
   "cell_type": "code",
   "execution_count": 70,
   "metadata": {},
   "outputs": [
    {
     "name": "stdout",
     "output_type": "stream",
     "text": [
      "[0 0]\n"
     ]
    }
   ],
   "source": [
    "\"\"\"\n",
    "0\n",
    "0\n",
    "\"\"\"\n",
    "\n",
    "print( x2[1][:, 1] )"
   ]
  },
  {
   "cell_type": "code",
   "execution_count": 72,
   "metadata": {},
   "outputs": [
    {
     "name": "stdout",
     "output_type": "stream",
     "text": [
      "[[[10 11 12]\n",
      "  [13 14 15]\n",
      "  [16 17 18]]\n",
      "\n",
      " [[20 21 22]\n",
      "  [23 24 25]\n",
      "  [26 27 28]]\n",
      "\n",
      " [[30 31 32]\n",
      "  [33 34 35]\n",
      "  [36 37 38]]]\n"
     ]
    }
   ],
   "source": [
    "# 03 Exercice\n",
    "a = np.array([\n",
    "       [[10, 11, 12], [13, 14, 15], [16, 17, 18]], # matrix 0\n",
    "       [[20, 21, 22], [23, 24, 25], [26, 27, 28]],\n",
    "       [[30, 31, 32], [33, 34, 35], [36, 37, 38]]\n",
    "])\n",
    "\n",
    "print(a)"
   ]
  },
  {
   "cell_type": "code",
   "execution_count": 75,
   "metadata": {},
   "outputs": [
    {
     "data": {
      "text/plain": [
       "array([[10, 11, 12],\n",
       "       [20, 21, 22],\n",
       "       [30, 31, 32]])"
      ]
     },
     "execution_count": 75,
     "metadata": {},
     "output_type": "execute_result"
    }
   ],
   "source": [
    "\"\"\"\n",
    "10 11 12\n",
    "20 21 22\n",
    "30 31 32\n",
    "\"\"\"\n",
    "\n",
    "# start:end:step\n",
    "print( a[:,0] )"
   ]
  },
  {
   "cell_type": "code",
   "execution_count": 85,
   "metadata": {},
   "outputs": [
    {
     "name": "stdout",
     "output_type": "stream",
     "text": [
      "[[[10 11 12]\n",
      "  [13 14 15]\n",
      "  [16 17 18]]\n",
      "\n",
      " [[20 21 22]\n",
      "  [23 24 25]\n",
      "  [26 27 28]]\n",
      "\n",
      " [[30 31 32]\n",
      "  [33 34 35]\n",
      "  [36 37 38]]]\n",
      "[[[14]]\n",
      "\n",
      " [[24]]\n",
      "\n",
      " [[34]]]\n",
      "[14 24 34]\n"
     ]
    }
   ],
   "source": [
    "\"\"\"\n",
    "14\n",
    "24\n",
    "34\n",
    "\"\"\"\n",
    "print(a)\n",
    "# i:matrice, j:ligne, k:colonne\n",
    "print(a[:,1:2,1:2])\n",
    "\n",
    "# attention au dimension, plus simple à exploiter \n",
    "print(a[:, 1, 1])"
   ]
  },
  {
   "cell_type": "code",
   "execution_count": 88,
   "metadata": {},
   "outputs": [
    {
     "name": "stdout",
     "output_type": "stream",
     "text": [
      "[15 25 35]\n"
     ]
    }
   ],
   "source": [
    "print(a[:, 1, 2])"
   ]
  },
  {
   "cell_type": "code",
   "execution_count": 90,
   "metadata": {},
   "outputs": [],
   "source": [
    "a = np.random.randint( 10, size = (10) )\n",
    "# une promo - 20%\n",
    "# On peut passer la matrice dans la fonction \n",
    "promo = lambda x : x * 0.8\n"
   ]
  },
  {
   "cell_type": "code",
   "execution_count": 92,
   "metadata": {},
   "outputs": [
    {
     "name": "stdout",
     "output_type": "stream",
     "text": [
      "[3 5 7 3 0 2 0 7 6 0]\n",
      "[2.4 4.  5.6 2.4 0.  1.6 0.  5.6 4.8 0. ]\n"
     ]
    }
   ],
   "source": [
    "print(a)\n",
    "print(promo(a))"
   ]
  },
  {
   "cell_type": "code",
   "execution_count": 94,
   "metadata": {},
   "outputs": [
    {
     "data": {
      "text/plain": [
       "array([3.6, 6. , 8.4, 3.6, 0. , 2.4, 0. , 8.4, 7.2, 0. ])"
      ]
     },
     "execution_count": 94,
     "metadata": {},
     "output_type": "execute_result"
    }
   ],
   "source": [
    "a*1.2"
   ]
  },
  {
   "cell_type": "code",
   "execution_count": 96,
   "metadata": {},
   "outputs": [],
   "source": [
    "# Extraire les valeurs paires d'une matrice \n",
    "prices = np.array([82, 92, 89, 65, 77, 66, 69, 65, 79, 51])"
   ]
  },
  {
   "cell_type": "code",
   "execution_count": 99,
   "metadata": {},
   "outputs": [
    {
     "name": "stdout",
     "output_type": "stream",
     "text": [
      "[False  True False False False False False False False False]\n"
     ]
    }
   ],
   "source": [
    "mask= prices > 90\n",
    "\n",
    "print(mask)"
   ]
  },
  {
   "cell_type": "code",
   "execution_count": 101,
   "metadata": {},
   "outputs": [
    {
     "data": {
      "text/plain": [
       "array([92])"
      ]
     },
     "execution_count": 101,
     "metadata": {},
     "output_type": "execute_result"
    }
   ],
   "source": [
    "prices[mask]"
   ]
  },
  {
   "cell_type": "code",
   "execution_count": 109,
   "metadata": {},
   "outputs": [
    {
     "name": "stdout",
     "output_type": "stream",
     "text": [
      "[82 92 66]\n"
     ]
    }
   ],
   "source": [
    "mask = (prices % 2 ) == 0\n",
    "\n",
    "print(prices[mask])"
   ]
  },
  {
   "cell_type": "code",
   "execution_count": 113,
   "metadata": {},
   "outputs": [
    {
     "name": "stdout",
     "output_type": "stream",
     "text": [
      "------\n"
     ]
    }
   ],
   "source": [
    "# 04 Exercice\n",
    "\n",
    "A = np.array([\n",
    "    [13, 22, 28, 66, 40],\n",
    "    [16, 59, 37, 33, 28],\n",
    "    [34, 98, 54, 48, 96],\n",
    "    [13, 84, 93, 79, 76],\n",
    "    [63, 50, 10, 69, 12]\n",
    "])\n",
    "\n",
    "\"\"\"\n",
    "A = np.array([\n",
    "    [13, 22, 28, 66, 40],\n",
    "    [16, 59, 37, 33, 28],\n",
    "    [34, 98, 54, 48, 96],\n",
    "    [13, 84, 93, 79, 76],\n",
    "    [63, 50, 10, 69, 12]\n",
    "])\n",
    "\n",
    "Soit le tableau A suivant on cherche les valeurs minimales par ligne. (DANS LA DOC)\n",
    "\n",
    "Nous aimerions à l'aide d'un script Python trouver tous les indices de tableau \n",
    "par ligne des minimaux et les enregistrer dans une liste de tuples comme dans l'exemple ci-dessous :\n",
    "\n",
    "# Liste des minimaux et leur position sur chaque ligne\n",
    "minTabLine = [(0, 13), (0, 16), (0, 34), (0, 13), (2, 10)]\n",
    "\n",
    "\"\"\"\n",
    "\n",
    "print('------')\n"
   ]
  },
  {
   "cell_type": "code",
   "execution_count": 156,
   "metadata": {},
   "outputs": [
    {
     "name": "stdout",
     "output_type": "stream",
     "text": [
      "[(0, 13), (0, 16), (0, 34), (0, 13), (2, 10)]\n"
     ]
    }
   ],
   "source": [
    "\"\"\"\n",
    "Une méthode est de regarder dans la documentation de Numpy si, on a une fonction qui travaille sur les tableaux.\n",
    "\n",
    "Ou alors on utilise ses propres masks\n",
    "\"\"\"\n",
    "# \n",
    "minLine = np.amin(A, axis=1)\n",
    "res = []\n",
    "# Pour avoir les indices pour chaque ligne\n",
    "for i, line in enumerate(A):\n",
    "    # np.where donne l'indice de la valeur rechercher en fonction du mask \n",
    "    # print( np.where( A[i] == minLine[i] ) )\n",
    "    j, =  np.where( A[i] == minLine[i] )\n",
    "    \n",
    "    res.append( (j[0],minLine[i]) )\n",
    "\n",
    "print(res)"
   ]
  },
  {
   "cell_type": "code",
   "execution_count": 141,
   "metadata": {},
   "outputs": [
    {
     "data": {
      "text/plain": [
       "0"
      ]
     },
     "execution_count": 141,
     "metadata": {},
     "output_type": "execute_result"
    }
   ],
   "source": [
    "np.array([0]).item(0)"
   ]
  },
  {
   "cell_type": "code",
   "execution_count": 157,
   "metadata": {},
   "outputs": [
    {
     "name": "stdout",
     "output_type": "stream",
     "text": [
      "[((0, 0), 13), ((1, 0), 16), ((2, 0), 34), ((3, 0), 13), ((4, 2), 10)]\n"
     ]
    }
   ],
   "source": [
    "## Pour Yves à travailler et comprendre pour la prochaine fois\n",
    "\n",
    "minLine = np.amin(A, axis=1)\n",
    "res = []\n",
    "# Pour avoir les indices pour chaque ligne\n",
    "for i, line in enumerate(A):\n",
    "    # min par ligne\n",
    "    m = minLine[i]\n",
    "    # On cherche chaque min dans chaque ligne\n",
    "    for k, j in enumerate(line):\n",
    "        if j == m :\n",
    "            res.append(((i, k), m))\n",
    "print(res)   "
   ]
  },
  {
   "cell_type": "code",
   "execution_count": 163,
   "metadata": {},
   "outputs": [
    {
     "name": "stdout",
     "output_type": "stream",
     "text": [
      "----\n"
     ]
    }
   ],
   "source": [
    "# Exercice\n",
    "\"\"\"\n",
    "Utilisez un mask pour faire la recherche des valeurs supérieur à 10 et inférieur à 100\n",
    "\n",
    "prices = np.array([ 43, 191, 108, 115, 104, 159, 113, 147,  46,   9,  17, 177,  27,\n",
    "        10,  90,   6,  73, 188, 171, 154])\n",
    "        \n",
    "comptez le nombre de valeurs qui répondent à la recherche effectuée ci-dessus\n",
    "\n",
    "\"\"\"\n",
    "\n",
    "\n",
    "print('----')"
   ]
  },
  {
   "cell_type": "code",
   "execution_count": 166,
   "metadata": {},
   "outputs": [
    {
     "data": {
      "text/plain": [
       "6"
      ]
     },
     "execution_count": 166,
     "metadata": {},
     "output_type": "execute_result"
    }
   ],
   "source": [
    "prices = np.array([ 43, 191, 108, 115, 104, 159, 113, 147,  46,   9,  17, 177,  27,\n",
    "        10,  90,   6,  73, 188, 171, 154])\n",
    "\n",
    "# & en binaire obligatoire \n",
    "mask = (prices > 10) & (prices < 100 )\n",
    "\n",
    "prices[mask]\n",
    "\n",
    "# la somme du mask ==> la somme les True \n",
    "np.sum(mask)"
   ]
  }
 ],
 "metadata": {
  "kernelspec": {
   "display_name": "Python 3",
   "language": "python",
   "name": "python3"
  },
  "language_info": {
   "codemirror_mode": {
    "name": "ipython",
    "version": 3
   },
   "file_extension": ".py",
   "mimetype": "text/x-python",
   "name": "python",
   "nbconvert_exporter": "python",
   "pygments_lexer": "ipython3",
   "version": "3.8.3"
  }
 },
 "nbformat": 4,
 "nbformat_minor": 4
}
